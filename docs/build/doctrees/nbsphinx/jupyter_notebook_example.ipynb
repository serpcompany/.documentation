{
 "cells": [
  {
   "cell_type": "markdown",
   "id": "9150176e",
   "metadata": {},
   "source": [
    "# A Markdown cell\n",
    "- You can do all the fun stuff markdown has to offer"
   ]
  },
  {
   "cell_type": "markdown",
   "id": "f1323e68",
   "metadata": {
    "lines_to_next_cell": 2
   },
   "source": [
    "## Another Markdown cell"
   ]
  },
  {
   "cell_type": "code",
   "execution_count": 1,
   "id": "493a8563",
   "metadata": {
    "execution": {
     "iopub.execute_input": "2023-10-18T23:44:32.464464Z",
     "iopub.status.busy": "2023-10-18T23:44:32.464169Z",
     "iopub.status.idle": "2023-10-18T23:44:32.472927Z",
     "shell.execute_reply": "2023-10-18T23:44:32.472438Z"
    },
    "lines_to_next_cell": 1
   },
   "outputs": [],
   "source": [
    "# This is a code cell\n",
    "class A():\n",
    "    def one():\n",
    "        return 1\n",
    "\n",
    "    def two():\n",
    "        return 2"
   ]
  },
  {
   "cell_type": "code",
   "execution_count": 2,
   "id": "e3866aaa",
   "metadata": {
    "execution": {
     "iopub.execute_input": "2023-10-18T23:44:32.475478Z",
     "iopub.status.busy": "2023-10-18T23:44:32.475291Z",
     "iopub.status.idle": "2023-10-18T23:44:32.575998Z",
     "shell.execute_reply": "2023-10-18T23:44:32.575777Z"
    }
   },
   "outputs": [
    {
     "ename": "ModuleNotFoundError",
     "evalue": "No module named 'numpy'",
     "output_type": "error",
     "traceback": [
      "\u001b[0;31m---------------------------------------------------------------------------\u001b[0m",
      "\u001b[0;31mModuleNotFoundError\u001b[0m                       Traceback (most recent call last)",
      "Cell \u001b[0;32mIn[2], line 2\u001b[0m\n\u001b[1;32m      1\u001b[0m \u001b[38;5;66;03m# This is another code cell\u001b[39;00m\n\u001b[0;32m----> 2\u001b[0m \u001b[38;5;28;01mimport\u001b[39;00m \u001b[38;5;21;01mnumpy\u001b[39;00m \u001b[38;5;28;01mas\u001b[39;00m \u001b[38;5;21;01mnp\u001b[39;00m\n\u001b[1;32m      4\u001b[0m mylist \u001b[38;5;241m=\u001b[39m np\u001b[38;5;241m.\u001b[39marange(\u001b[38;5;241m0\u001b[39m,\u001b[38;5;241m10\u001b[39m)\n\u001b[1;32m      5\u001b[0m \u001b[38;5;28mprint\u001b[39m(\u001b[38;5;124mf\u001b[39m\u001b[38;5;124m\"\u001b[39m\u001b[38;5;124mthis is my list \u001b[39m\u001b[38;5;132;01m{\u001b[39;00mmylist\u001b[38;5;132;01m}\u001b[39;00m\u001b[38;5;124m\"\u001b[39m)\n",
      "\u001b[0;31mModuleNotFoundError\u001b[0m: No module named 'numpy'"
     ]
    }
   ],
   "source": [
    "# This is another code cell\n",
    "import numpy as np\n",
    "\n",
    "mylist = np.arange(0,10)\n",
    "print(f\"this is my list {mylist}\")"
   ]
  }
 ],
 "metadata": {
  "jupytext": {
   "cell_metadata_filter": "-all",
   "main_language": "python",
   "notebook_metadata_filter": "-all"
  },
  "kernelspec": {
   "display_name": ".venv",
   "language": "python",
   "name": "python3"
  },
  "language_info": {
   "codemirror_mode": {
    "name": "ipython",
    "version": 3
   },
   "file_extension": ".py",
   "mimetype": "text/x-python",
   "name": "python",
   "nbconvert_exporter": "python",
   "pygments_lexer": "ipython3",
   "version": "3.11.6"
  }
 },
 "nbformat": 4,
 "nbformat_minor": 5
}
